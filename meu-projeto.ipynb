{
 "cells": [
  {
   "cell_type": "markdown",
   "id": "9d957dcf-7d4b-491b-b122-1ab2e5a57ff8",
   "metadata": {
    "tags": []
   },
   "source": [
    "# Projeto - Lógica de Programação II\n",
    "\n",
    "__Aluno:__ Gabriel Resende Miranda"
   ]
  },
  {
   "cell_type": "markdown",
   "id": "1e1e0331-cc67-4890-be80-d304834dfda9",
   "metadata": {},
   "source": [
    "## Informações iniciais"
   ]
  },
  {
   "cell_type": "markdown",
   "id": "a4ee1f9a-4d5b-4ad7-aeb0-91a2fef933ed",
   "metadata": {},
   "source": [
    "Importando bibliotecas necessárias:"
   ]
  },
  {
   "cell_type": "code",
   "execution_count": 1,
   "id": "d4f39c2f-ec12-474c-bc1c-20443c516294",
   "metadata": {
    "tags": []
   },
   "outputs": [],
   "source": [
    "from collections import namedtuple as nt\n",
    "from functools import reduce\n",
    "import csv\n",
    "\n",
    "# Precisei importar essa biblioteca para copiar dois dicionários com método deepcopy.\n",
    "from copy import deepcopy\n",
    "\n",
    "# Precisei dessa biblioteca para verificar se meus aquivos externos existem.\n",
    "from os.path import exists"
   ]
  },
  {
   "cell_type": "markdown",
   "id": "e47fc77a-67b8-4ee0-b8d9-78567fc3a1ec",
   "metadata": {},
   "source": [
    "Como o projeto consiste em um sistema de gerenciamento de vendas, não irei incluir funções que tratem do cadastro de produtos nem de controle de estoque. Para isso, __irei assumir que a minha loja em questão trata-se de uma loja de roupas__ e que ela vende os seguintes produtos:"
   ]
  },
  {
   "cell_type": "code",
   "execution_count": 2,
   "id": "8c92552c-8743-4d9c-8115-31d61ddd5ff7",
   "metadata": {
    "tags": []
   },
   "outputs": [],
   "source": [
    "# produtos = {\"nome do produto1\": preço1, \"nome do produto2\": preço2, ...}\n",
    "\n",
    "catalogo_produtos = {\n",
    "    \"Camisa\": 90,\n",
    "    \"Calça\": 120,\n",
    "    \"Vestido\": 200,\n",
    "    \"Saia\": 70,\n",
    "    \"Sapato\": 190,\n",
    "    \"Bolsa\": 300,\n",
    "    \"Jaqueta\": 350,\n",
    "    \"Chapéu\": 40,\n",
    "    \"Óculos\": 110,\n",
    "    \"Colar\": 160,\n",
    "}"
   ]
  },
  {
   "cell_type": "markdown",
   "id": "c031bf00-6e6e-410f-9dab-4e6012cdf68c",
   "metadata": {},
   "source": [
    "Ao cadastrar uma venda, o vendedor deverá simplesmente passar o nome dos produtos em questão. O preço será buscado direto no dicionário acima."
   ]
  },
  {
   "cell_type": "markdown",
   "id": "fc69ea4c-f32f-420c-8f36-9ee5a7c88801",
   "metadata": {},
   "source": [
    "Como o sistema será acessado apenas por funcionários, irei criar uma lista de tuplas com as informações dos 5 vendedores cadastrados na minha loja. Eles irão acessar meu sistema através de um login. As vendas registradas por eles automaticamente terão seus respectivos nomes."
   ]
  },
  {
   "cell_type": "code",
   "execution_count": 3,
   "id": "671e3f98-1ef9-449b-a9e2-95acde0e7c3a",
   "metadata": {
    "tags": []
   },
   "outputs": [],
   "source": [
    "vendedor = nt(\"Vendedor\", [\"nome\", \"senha\"])\n",
    "\n",
    "vendedor1 = vendedor(nome=\"Gabriel\", senha=\"abc\")\n",
    "vendedor2 = vendedor(nome=\"João\", senha=\"123\")\n",
    "vendedor3 = vendedor(nome=\"Maria\", senha=\"456\")\n",
    "vendedor4 = vendedor(nome=\"Fernando\", senha=\"efg\")\n",
    "vendedor5 = vendedor(nome=\"Daniela\", senha=\"hjk\")\n",
    "\n",
    "# Criando uma lista de vendedores cadastrados:\n",
    "vendedores = [vendedor1, vendedor2, vendedor3, vendedor4, vendedor5]"
   ]
  },
  {
   "cell_type": "markdown",
   "id": "80f337b3-61e2-4991-8bed-b43c4f2cea5c",
   "metadata": {},
   "source": [
    "As informações sobre as vendas serão salvas no dicionário abaixo, que servirá como nosso banco de dados. Ele seguirá a seguinte estrutura:\n",
    "\n",
    "```python\n",
    "db_vendas = {\"ID\": {informações da venda}}\n",
    "```\n",
    "\n",
    "Um exemplo de registro se dará da seguinte forma:\n",
    "\n",
    "```python\n",
    "db_vendas[0] = {\n",
    "    \"produtos\": [\"Camisa\", \"Calça\"],\n",
    "    \"valores\": [90, 120],\n",
    "    \"quantidades\": [1, 2],\n",
    "    \"cpf_comprador\": [\"12345678900\"],\n",
    "    \"nome_vendedor\": \"Gabriel\",\n",
    "    \"dia\": 11,\n",
    "    \"mes\": 6,\n",
    "    \"ano\": 2023,\n",
    "    \"info_adicional\": \"Compra a prazo\"\n",
    "}\n",
    "```"
   ]
  },
  {
   "cell_type": "markdown",
   "id": "49c6f2d8-f81f-40d3-b6f1-f17363c4567e",
   "metadata": {},
   "source": [
    "Ao iniciarmos o programa, `db_vendas` receberá todas as vendas cadastradas no aquivo `db_vendas.csv`.\n",
    "\n",
    "Esse dicionário será uma espécie de <i>variável global</i>. Todas as operações das funções irão operar diretamente nele."
   ]
  },
  {
   "cell_type": "code",
   "execution_count": 4,
   "id": "03fb3984-4209-48aa-b6eb-e13e78c6a7f1",
   "metadata": {
    "tags": []
   },
   "outputs": [],
   "source": [
    "db_vendas = {}"
   ]
  },
  {
   "cell_type": "markdown",
   "id": "252baeb9-29e8-489b-9a1f-dba2c8cee2b6",
   "metadata": {},
   "source": [
    "## Funções"
   ]
  },
  {
   "cell_type": "code",
   "execution_count": 5,
   "id": "662e1631-118d-4a39-b04d-598c694c0bc6",
   "metadata": {
    "tags": []
   },
   "outputs": [],
   "source": [
    "# Funções extras:\n",
    "\n",
    "def importar_db() -> dict:\n",
    "    \"\"\"\n",
    "        Importa o banco de dados salvo no arquivo \"db_vendas.csv\".\n",
    "        * Retorna uma lista com os seguintes elementos:\n",
    "            * Dicionário no estilo {ID: {informações da venda}}.\n",
    "            * Último id identificado.\n",
    "            * [{},0] caso não exista o arquivo \"db_vendas.csv\" ou ocorra algum erro.\n",
    "    \"\"\"\n",
    "    try:\n",
    "        if exists(\"db_vendas.csv\"):\n",
    "            with open(\"db_vendas.csv\", 'r') as db:\n",
    "                planilha = csv.reader(db, delimiter=',', lineterminator='\\n')\n",
    "                tabela = list(planilha)\n",
    "\n",
    "            # Pegando o header.\n",
    "            chaves = tabela[0]\n",
    "\n",
    "            # Eliminando o header.\n",
    "            tabela = tabela[1:]\n",
    "\n",
    "            ids = [int(item[0]) for item in tabela]\n",
    "\n",
    "            # Transformando cada linha em um dicionário com a nossa configuração padrão.\n",
    "            # [{venda0}, {venda1}, ...]\n",
    "            dici_itens = []\n",
    "            for item in tabela:\n",
    "                dici_itens.append(dict(zip(chaves, item)))\n",
    "\n",
    "            for i in range(len(dici_itens)):\n",
    "                # Removendo o id dos dicionários correspondentes às vendas individuais\n",
    "                # porque eles serão as chaves do nosso dicionário db_vendas.\n",
    "                del dici_itens[i][\"id\"]\n",
    "\n",
    "                if dici_itens[i][\"info_adicional\"] != \"Venda cancelada\":\n",
    "                    # Ajustando a lista de produtos.\n",
    "                    dici_itens[i][\"produtos\"] = dici_itens[i][\"produtos\"].split(\"; \")\n",
    "\n",
    "                    # Ajustando a lista de valores.\n",
    "                    dici_itens[i][\"valores\"] = [\n",
    "                        int(v) for v in dici_itens[i][\"valores\"].split(\"; \")\n",
    "                    ]\n",
    "\n",
    "                    # Ajustando a lista de quantidades.\n",
    "                    dici_itens[i][\"quantidades\"] = [\n",
    "                        int(v) for v in dici_itens[i][\"quantidades\"].split(\"; \")\n",
    "                    ]\n",
    "\n",
    "                    # Ajustando a data\n",
    "                    dici_itens[i][\"dia\"] = int(dici_itens[i][\"dia\"])\n",
    "                    dici_itens[i][\"mes\"] = int(dici_itens[i][\"mes\"])\n",
    "                    dici_itens[i][\"ano\"] = int(dici_itens[i][\"ano\"])\n",
    "\n",
    "            print(\"Arquivo encontrado!\")\n",
    "            return [dict(zip(ids, dici_itens)), ids[-1]]\n",
    "        else:\n",
    "            print(\"Arquivo \\\"db_vendas.csv\\\" não encontrado. Iniciaremos com db_vendas = {} e ultimo_id = 0.\")\n",
    "            return [{},0]\n",
    "    except:\n",
    "        print(\"Erro ao importar o bando de dados. Iniciaremos com db_vendas = {} e ultimo_id = 0.\")\n",
    "        return [{},0]\n",
    "\n",
    "    \n",
    "def login(usuario: str, senha: str) -> bool:\n",
    "    \"\"\"\n",
    "        Função responsável pelo login do vendedor.\n",
    "        * Recebe o nome de usuário e a senha.\n",
    "        * Retorna se os dados batem com os vendores cadastrados na lista \"vendedores\".\n",
    "    \"\"\"\n",
    "    usuario_senha = False\n",
    "    for vendedor in vendedores:\n",
    "        if vendedor.nome == usuario:\n",
    "            if vendedor.senha == senha:\n",
    "                usuario_senha = True\n",
    "    return usuario_senha\n",
    "\n",
    "\n",
    "def resposta_menu(*msg: str) -> int:\n",
    "    \"\"\"\n",
    "        Verifica a opção do menu digitada pelo usuário.\n",
    "        Caso o usuário não digite um valor válido, a função é chamada novamente de forma recursiva.\n",
    "        * Recebe como parâmetro opcional uma mensagem de alerta.\n",
    "    \"\"\"\n",
    "    if msg:\n",
    "        print(msg[0])\n",
    "        \n",
    "    try:\n",
    "        resposta = int(input(\"O que deseja realizar? Número correspondente às opções do menu:\"))\n",
    "        if resposta in range(0,12):\n",
    "            return resposta\n",
    "        else:\n",
    "            return resposta_menu(\"Opção inválida.\\n\")\n",
    "    except:\n",
    "        return resposta_menu(\"Opção inválida.\\n\")\n",
    "\n",
    "    \n",
    "def verifica_produtos(input_produtos: str) -> list:\n",
    "    \"\"\"\n",
    "        Verifica o input de produtos digitado pelo usuário.\n",
    "        * Recebe o input.\n",
    "        * Retorna uma lista:\n",
    "            [False, \"Input inválido.\\\\n\", None], se os produtos digitados não foram encontrados no catalogo_produtos.\n",
    "            [True, None, lista_produtos], se foram encontrados.\n",
    "        Atenção! A primeira letra do nome de cada produto deve ser maiúscula!\n",
    "    \"\"\"\n",
    "    try:\n",
    "        lista_produtos = [p.replace(\" \",\"\") for p in input_produtos.split(\",\")]\n",
    "        verificando_no_catalogo = lambda p: catalogo_produtos.get(p) != None\n",
    "        tem_na_loja = list(map(verificando_no_catalogo, lista_produtos))\n",
    "        if False in tem_na_loja:\n",
    "            return [False, \"Input inválido.\\n\", None]\n",
    "        else:\n",
    "            # Verificando se o usuário digitou um produto válido mais de uma vez.\n",
    "            verificando_qtd_vezes = lambda p: lista_produtos.count(p) == 1\n",
    "            tem_apenas_uma_vez = list(map(verificando_qtd_vezes, lista_produtos))\n",
    "            \n",
    "            if False in tem_apenas_uma_vez:\n",
    "                return [False, \"Digite cada produto apenas uma vez.\\n\", None]\n",
    "            else:\n",
    "                return [True, None, lista_produtos]\n",
    "    except:\n",
    "        return [False, \"Input inválido.\\n\", None]\n",
    "\n",
    "    \n",
    "def verifica_qtd(input_qtd: str, qtd_produtos: int) -> list:\n",
    "    \"\"\"\n",
    "        Verifica o input de quantidade de produtos digitado pelo usuário.\n",
    "        * Recebe o input e a quantidade de produtos vendidos.\n",
    "        * Retorna uma lista:\n",
    "            [False, \"Input inválido.\\\\n\", None], se as quantidades digitadas não correspondem às quantidades de produtos vendidos.\n",
    "            [True, None, lista_qtd], caso contrário.\n",
    "    \"\"\"\n",
    "    try:\n",
    "        lista_qtd = [int(q.replace(\" \",\"\")) for q in input_qtd.split(\",\")]\n",
    "        if len(lista_qtd) == qtd_produtos:\n",
    "            return [True, None, lista_qtd]\n",
    "        else:\n",
    "            return [False, \"Input inválido.\\n\", None]\n",
    "    except:\n",
    "        return [False, \"Input inválido.\\n\", None]\n",
    "\n",
    "    \n",
    "def verifica_data(input_data: str, data_completa = True) -> list:\n",
    "    \"\"\"\n",
    "        Verifica o input de data digitado pelo usuário.\n",
    "        * Recebe a data (que deve estar no formato dd/mm/aaaa por padrão).\n",
    "            Caso data_completa == False, então input_data deve estar no formato mm/aaaa.\n",
    "        * Retorna uma lista:\n",
    "            [False, \"Input inválido.\\\\n\", None], se a data digitada não for válida.\n",
    "            [True, None, lista_data], caso contrário.\n",
    "    \"\"\"\n",
    "    try:\n",
    "        lista_data = input_data.split(\"/\")\n",
    "        lista_data = [int(n) for n in lista_data]\n",
    "        \n",
    "        verificando_data = lambda num, range_data: num in range_data\n",
    "        \n",
    "        if data_completa:\n",
    "            dia = verificando_data(lista_data[0], range(1,32))\n",
    "            mes = verificando_data(lista_data[1], range(1,13))\n",
    "            ano = verificando_data(lista_data[2], range(1900,2100))\n",
    "        else:\n",
    "            dia = True\n",
    "            mes = verificando_data(lista_data[0], range(1,13))\n",
    "            ano = verificando_data(lista_data[1], range(1900,2100))\n",
    "        \n",
    "        if False in [dia, mes, ano]:\n",
    "            return [False, \"Input inválido.\\n\", None]\n",
    "        else:\n",
    "            return [True, None, lista_data]\n",
    "    except:\n",
    "        return [False, \"Input inválido.\\n\", None]\n",
    "\n",
    "\n",
    "def verifica_id(input_id: str) -> list:\n",
    "    \"\"\"\n",
    "        Verifica o input de id digitado pelo usuário.\n",
    "        * Recebe o id.\n",
    "        * Retorna uma lista:\n",
    "            [False, \"Input inválido.\\\\n\", None], se o id digitado não for válido.\n",
    "            [True, None, id], caso contrário.\n",
    "    \"\"\"\n",
    "    try:\n",
    "        if int(input_id) in db_vendas.keys():\n",
    "            return [True, None, int(input_id)]\n",
    "        else:\n",
    "            return [False, \"Input inválido.\\n\", None]\n",
    "    except:\n",
    "        return [False, \"Input inválido.\\n\", None]\n",
    "\n",
    "\n",
    "def verifica_info_adicional(input_info: str) -> list:\n",
    "    \"\"\"\n",
    "        Verifica o input de \"info_adicional\" a ser cadastrada no banco de dados.\n",
    "        * Recebe o input do usuário.\n",
    "        * Retorna:\n",
    "            [True, None, float(input_cotacao)], se input_info for diferente de \"Venda cancelada\" (valor reservado).\n",
    "            [False, \"Input inválido.\\n\", None], caso contrário.\n",
    "    \"\"\"\n",
    "    try:\n",
    "        if input_info != \"Venda cancelada\":\n",
    "            return [True, None]\n",
    "        else:\n",
    "            return [False, \"Input inválido.\\n\"]\n",
    "    except:\n",
    "        return [False, \"Input inválido.\\n\"]\n",
    "\n",
    "    \n",
    "def verifica_cotacao_dolar(input_cotacao: str) -> list:\n",
    "    \"\"\"\n",
    "        Verifica o input de cotação do dólar.\n",
    "        * Recebe o input do usuário.\n",
    "        * Retorna:\n",
    "            [True, None], se input_info for um valor válido\n",
    "            [False, \"Input inválido.\\n\"], caso contrário.\n",
    "    \"\"\"\n",
    "    try:\n",
    "        return [True, None, float(input_cotacao)]\n",
    "    except:\n",
    "        return [False, \"Input inválido.\\n\", None]    \n",
    "    \n",
    "\n",
    "def filtrar_vendas_ano_mes(ano: int, mes: int) -> list:\n",
    "    \"\"\"\n",
    "        Filtra as vendas cadastradas no banco de dados db_vendas por ano e por mes.\n",
    "        * Recebe ano e mês de interesse.\n",
    "        * Retorna uma lista com as vendas filtradas.\n",
    "    \"\"\"\n",
    "    try:\n",
    "        if len(db_vendas) != 0:\n",
    "            filtro_ano = lambda venda: venda[\"ano\"] == ano\n",
    "            # Obtendo uma lista de vendas separadas por ano.\n",
    "            vendas_por_ano = list(filter(filtro_ano,\n",
    "                                         [db_vendas[id_venda] for id_venda in db_vendas.keys()]\n",
    "                                        )\n",
    "                                 )\n",
    "            filtro_mes = lambda venda: venda[\"mes\"] == mes\n",
    "            vendas_por_mes = list(filter(filtro_mes, vendas_por_ano))\n",
    "            return vendas_por_mes\n",
    "        else:\n",
    "            return []\n",
    "    except:\n",
    "        print(\"Erro ao filtrar vendas por data (ano/mes).\")\n",
    "        return []\n",
    "\n",
    "\n",
    "def filtrar_vendedor(dict_retorno: dict, venda_individual: dict) -> dict:\n",
    "    \"\"\"\n",
    "        Filtra as vendas por vendedor.\n",
    "        * Recebe um dicionário vazio (dict_retorno) e uma venda de interesse (venda_individual).\n",
    "        * Retorna um dicionário com a seguinte estrutura:\n",
    "            {\"nome_do_vendedor\": [{venda_realizada_por_ele}]}\n",
    "    \"\"\"\n",
    "    try:\n",
    "        nome_do_vendedor = venda_individual[\"nome_vendedor\"]\n",
    "        if nome_do_vendedor in dict_retorno.keys():\n",
    "            dict_retorno[nome_do_vendedor].append(venda_individual)\n",
    "        else:\n",
    "            dict_retorno[nome_do_vendedor] = [venda_individual]\n",
    "        return dict_retorno\n",
    "    except:\n",
    "        print(\"Erro ao filtrar vendas por vendedor.\")\n",
    "        return {} \n",
    "\n",
    "    \n",
    "# Funções do menu:\n",
    "\n",
    "# [0]\n",
    "def exibe_menu() -> None:\n",
    "    \"\"\"\n",
    "        Exibe o menu com a opções disponíveis para o usuário.\n",
    "    \"\"\"\n",
    "    print(\"##### Menu #####\\n\")\n",
    "    print(\"0. Exibe o menu novamente\")\n",
    "    print(\"1. Exibe o catálogo de produtos da loja\")\n",
    "    print(\"2. Cadastrar venda\")\n",
    "    print(\"3. Excluir venda\")\n",
    "    print(\"4. Exibir vendas cadastradas\")\n",
    "    print(\"5. Editar venda cadastrada\")\n",
    "    print(\"6. Calcular o valor total e o valor médio das vendas em um determinado mês\")\n",
    "    print(\"7. Vendedor do mês\")\n",
    "    print(\"8. Produto do mês\")\n",
    "    print(\"9. Salvar as vendas no arquivo db_vendas.csv\")\n",
    "    print(\"10. Converter os valores em dólares e salvar dados em um novo arquivo\")\n",
    "    print(\"\\t* Essa operação salva também as novas vendas cadastradas no arquivo db_vendas.csv.\")\n",
    "    print(\"11. Sair\\n\")\n",
    "    print(\"Não se esqueça de salvar as alterações (opção 9) antes de sair!\\n\")\n",
    "    \n",
    "    \n",
    "# [1]\n",
    "def exibe_produtos() -> None:\n",
    "    \"\"\"\n",
    "        Exibe o catálogo de produtos cadastrados na loja.\n",
    "    \"\"\"\n",
    "    for produto, valor in zip(catalogo_produtos.keys(), catalogo_produtos.values()):\n",
    "        print(f\". {produto}: R$ {valor},00\")\n",
    "\n",
    "        \n",
    "# [2]\n",
    "def cadastrar_venda(id_venda: int,\n",
    "                    produtos: list,\n",
    "                    quantidades: list,\n",
    "                    nome_vendedor: str,\n",
    "                    cpf: str,\n",
    "                    data: str,\n",
    "                    info: str) -> bool:\n",
    "    \"\"\"\n",
    "        Cadastra a venda solicitada pelo usuário.\n",
    "        * Recebe informações da venda.\n",
    "        * Cria um dicionário com as seguintes chaves:\n",
    "            \"produtos\",\n",
    "            \"valores\",\n",
    "            \"quantidades\",\n",
    "            \"cpf_comprador\",\n",
    "            \"nome_vendedor\",\n",
    "            \"dia\",\n",
    "            \"mes\",\n",
    "            \"ano\",\n",
    "            \"info_adicional\"\n",
    "        * Armazena o dicionário criado no banco de dados \"db_vendas\".\n",
    "        * As chaves do dicionário \"db_vendas\" são ID de cada venda.\n",
    "    \"\"\"\n",
    "    try:        \n",
    "        precos = [catalogo_produtos[p] for p in produtos]\n",
    "        \n",
    "        db_vendas[id_venda] = {\n",
    "            \"produtos\": produtos,\n",
    "            \"valores\": precos,\n",
    "            \"quantidades\": quantidades,\n",
    "            \"cpf_comprador\": cpf,\n",
    "            \"nome_vendedor\": nome_vendedor,\n",
    "            \"dia\": data[0],\n",
    "            \"mes\": data[1],\n",
    "            \"ano\": data[2],\n",
    "            \"info_adicional\": info\n",
    "        }\n",
    "        \n",
    "        print(\"Venda cadastrada com sucesso!\")\n",
    "        return True\n",
    "    except:\n",
    "        print(\"Erro ao cadastrar a venda.\")\n",
    "        return False\n",
    "\n",
    "\n",
    "# [3]\n",
    "def excluir_venda(excluir_id: int) -> None:\n",
    "    \"\"\"\n",
    "        Exclui uma determinada venda.\n",
    "        * Recebe o id da venda a ser excluída.\n",
    "        * Substitui os valores do banco de dados \"db_vendas\" por:\n",
    "            db_vendas[excluir_id] = {\n",
    "                \"produtos\": \"\",\n",
    "                \"valores\": \"\",\n",
    "                \"quantidades\": \"\",\n",
    "                \"cpf_comprador\": \"\",\n",
    "                \"nome_vendedor\": \"\",\n",
    "                \"dia\": \"\",\n",
    "                \"mes\": \"\",\n",
    "                \"ano\": \"\",\n",
    "                \"info_adicional\": \"Venda cancelada\"\n",
    "            }\n",
    "    \"\"\"\n",
    "    try:\n",
    "        if len(db_vendas) != 0:\n",
    "            for chave in db_vendas[excluir_id]:\n",
    "                db_vendas[excluir_id][chave] = \"\" if chave != \"info_adicional\" else \"Venda cancelada\"\n",
    "            print(\"Venda excluída com sucesso!\")\n",
    "        else:\n",
    "            print(\"Não há vendas cadastradas para serem excluídas.\")\n",
    "    except:\n",
    "        print(\"Erro ao excluir a venda.\")\n",
    "        \n",
    "\n",
    "# [4]\n",
    "def exibir_vendas() -> None:\n",
    "    \"\"\"\n",
    "        Exibe as vendas cadastradas no banco de dados \"db_vendas\".\n",
    "    \"\"\"\n",
    "    if len(db_vendas) == 0:\n",
    "        print(\"Não há vendas cadastradas.\")\n",
    "        print()\n",
    "    else:\n",
    "        for id_venda in db_vendas:\n",
    "            print(f\"ID: {id_venda}\")\n",
    "            if db_vendas[id_venda][\"info_adicional\"] != \"Venda cancelada\":\n",
    "                for elemento, valor in zip(db_vendas[id_venda].keys(), db_vendas[id_venda].values()):\n",
    "                    print(f\"{elemento}: {valor}\")\n",
    "            else:\n",
    "                print(\"Venda cancelada.\")\n",
    "            print()\n",
    "        \n",
    "        \n",
    "# [5]\n",
    "# A função de editar vendas é tratada junto com a função de cadastro (2)\n",
    "\n",
    "\n",
    "# [6]\n",
    "def calcular_vendas_ano_mes(ano: int, mes: int) -> list:\n",
    "    \"\"\"\n",
    "        Calcula o valor total e médio de vendas de uma determinada data (ano/mes).\n",
    "        * Recebe o ano e o mês de interesse.\n",
    "        * Retorna as seguintes listas:\n",
    "            [soma_total, media], se for possível calcular.\n",
    "            [0, 0], caso contrário.\n",
    "    \"\"\"\n",
    "    try:\n",
    "        # Obtendo uma lista com todas as vendas realizadas apenas na data de interesse.\n",
    "        vendas_no_ano_mes = filtrar_vendas_ano_mes(ano, mes)\n",
    "\n",
    "        if len(vendas_no_ano_mes) != 0:\n",
    "            print(f\"Quantidade de vendas realizadas na data {mes}/{ano}: {len(vendas_no_ano_mes)}\")\n",
    "            \n",
    "            soma_individual = []\n",
    "            for venda in vendas_no_ano_mes:\n",
    "                # Multiplicando o valor de cada peça pela respectiva quantidade vendida.\n",
    "                valor_x_qtd = [v*q for v,q in zip(venda[\"valores\"], venda[\"quantidades\"])]\n",
    "                # Somando os valores.\n",
    "                soma_individual.append(sum(valor_x_qtd))\n",
    "            \n",
    "            soma_total = sum(soma_individual)\n",
    "            media = soma_total/len(vendas_no_ano_mes)\n",
    "            print(f\". Total vendido: R$ {soma_total},00\")\n",
    "            print(\". Média por venda: R$ {:.2f}\".format(media))\n",
    "            return [soma_total, media]\n",
    "        else:\n",
    "            print(f\"Nenhuma venda foi realizada na data {mes}/{ano}.\")\n",
    "            return [0,0]\n",
    "    except:\n",
    "        print(f\"Erro ao calcular o total e média de vendas em {mes}/{ano}.\")\n",
    "        return [0,0]\n",
    "\n",
    "    \n",
    "# [7]  \n",
    "def calcular_vendedor_ano_mes(ano: int, mes: int) -> list:\n",
    "    \"\"\"\n",
    "        Calcula o vendedor da data mm/aaaa.\n",
    "        * Recebe o ano e o mês de interesse.\n",
    "        * Retorna uma lista com a seguinte estrutura:\n",
    "            [{\"nome_vendedor\": faturamento_total}, [vendedor_do_mes]]\n",
    "    \"\"\"\n",
    "    try:\n",
    "        # Primeiro, filtramos apenas as vendas do mes/ano desejado.\n",
    "        vendas_no_ano_mes = filtrar_vendas_ano_mes(ano, mes)\n",
    "        \n",
    "        # Depois, utilizamos a função reduce aplicada à função filtrar_vendedor().\n",
    "        # A intenção é criarmos um dicionário com a seguinte estrutura:\n",
    "        # {\"vendedor1\": [{venda1_realizada_por_ele}, {venda2_realizada_por_ele} ...],\n",
    "        #  \"vendedor2\": [{venda1_realizada_por_ele}, {venda2_realizada_por_ele} ...],\n",
    "        #  ...}\n",
    "        vendas_filtro_vendedor = reduce(filtrar_vendedor, vendas_no_ano_mes, {})\n",
    "        \n",
    "        if len(vendas_filtro_vendedor) != 0:\n",
    "            \n",
    "            # Criando um dicionário do tipo {\"nome_vendedor\": total_vendido_por_ele}\n",
    "            dict_total_vendedores = {}\n",
    "            \n",
    "            for pessoa in vendas_filtro_vendedor.keys():\n",
    "                \n",
    "                # Neste primeiro momento, farei:\n",
    "                # {\"nome_vendedor\": [total_venda1, total_venda2, ...]}\n",
    "                dict_total_vendedores[pessoa] = []\n",
    "                \n",
    "                for venda_específica in vendas_filtro_vendedor[pessoa]:\n",
    "                    precos = venda_específica[\"valores\"]\n",
    "                    qtds = venda_específica[\"quantidades\"]\n",
    "                    preco_x_qtd = [p*q for p,q in zip(precos, qtds)]\n",
    "                    dict_total_vendedores[pessoa].append(sum(preco_x_qtd))\n",
    "                \n",
    "                # Agora teremos:\n",
    "                # {\"nome_vendedor\": total_vendido_por_ele}\n",
    "                dict_total_vendedores[pessoa] = sum(dict_total_vendedores[pessoa])\n",
    "                \n",
    "            print(f\"Vendedores que tiveram faturamento na data {mes}/{ano}:\")\n",
    "            for v,t in zip(dict_total_vendedores.keys(), dict_total_vendedores.values()):\n",
    "                print(f\". {v}: R$ {t},00\")\n",
    "            print()\n",
    "            \n",
    "            maior_faturamento = max(list(dict_total_vendedores.values()))\n",
    "            print(\"Vendedor(es) do mês (aquele(s) com o maior faturamento):\")\n",
    "            \n",
    "            # Iremos armazenar os vendedores do mês em uma lista porque\n",
    "            # pode haver mais de um vendedor com o mesmo faturamento.\n",
    "            vendedor_mes = [\n",
    "                pessoa for pessoa in dict_total_vendedores.keys()\n",
    "                if dict_total_vendedores[pessoa] == maior_faturamento\n",
    "            ]\n",
    "            \n",
    "            for v in vendedor_mes:\n",
    "                print(f\". {v}: R$ {dict_total_vendedores[v]},00\")\n",
    "            \n",
    "            return [dict_total_vendedores, vendedor_mes]\n",
    "        else:\n",
    "            print(f\"Não houve nenhuma venda na data {mes}/{ano}.\")\n",
    "            return [{},[]]\n",
    "    except:\n",
    "        print(f\"Erro ao calcular o vendedor na data {mes}/{ano}.\")\n",
    "        return [{},[]]\n",
    "    \n",
    "\n",
    "# [8]:\n",
    "def calcular_produto_ano_mes(ano: int, mes: int) -> list:\n",
    "    \"\"\"\n",
    "        Calcula o produto com maior faturamento na data mm/aaaa.\n",
    "        * Recebe ano e data de interesse.\n",
    "        * Retorna uma lista com a seguinte estrutura:\n",
    "            [{\"nome_produto\": faturamento no período}, [produto_do_mes]]\n",
    "    \"\"\"\n",
    "    \n",
    "    try:\n",
    "        # Primeiro, filtramos apenas as vendas do mes/ano desejado.\n",
    "        vendas_ano_mes = filtrar_vendas_ano_mes(ano, mes)\n",
    "        \n",
    "        # Criando uma lista de produtos vendidos no período.\n",
    "        produtos_vendidos = []\n",
    "        for venda in vendas_ano_mes:\n",
    "            for produto in venda[\"produtos\"]:\n",
    "                if produto not in produtos_vendidos: \n",
    "                    produtos_vendidos.append(produto)\n",
    "        \n",
    "        # Criando uma lista com os respectivos faturamentos dos produtos vendidos no período.\n",
    "        valor_produtos_vendidos = []\n",
    "        for produto in produtos_vendidos:\n",
    "            valor_total_produto = 0\n",
    "            for venda in vendas_ano_mes:\n",
    "                if produto in venda[\"produtos\"]:\n",
    "                    index_produto = venda[\"produtos\"].index(produto)\n",
    "                    valor_produto = venda[\"valores\"][index_produto]\n",
    "                    qtd_produto = venda[\"quantidades\"][index_produto]\n",
    "                    valor_total_produto += valor_produto*qtd_produto\n",
    "            valor_produtos_vendidos.append(valor_total_produto)\n",
    "        \n",
    "        if len(produtos_vendidos) != 0:\n",
    "            # Criando um dicionário do tipo {\"produto_vendido\": \"valor\"}.\n",
    "            dict_produto_valor = dict(zip(produtos_vendidos, valor_produtos_vendidos))\n",
    "            \n",
    "            print(f\"Produtos vendidos na data {mes}/{ano}:\")\n",
    "            for p in dict_produto_valor:\n",
    "                print(f\". {p}: R$ {dict_produto_valor[p]},00\")\n",
    "            print()\n",
    "            \n",
    "            maior_faturamento = max(valor_produtos_vendidos)\n",
    "            \n",
    "            # Iremos armazenar os produtos do mês em uma lista porque\n",
    "            # pode haver mais de um produto com o mesmo faturamento.\n",
    "            produtos_maior_faturamento = []\n",
    "            print(\"Produto(s) do mês (aquele(s) com maior faturamento):\")\n",
    "            for p in dict_produto_valor:\n",
    "                if dict_produto_valor[p] == maior_faturamento:\n",
    "                    print(f\". {p}: R$ {dict_produto_valor[p]},00\")\n",
    "                    produtos_maior_faturamento.append(p)\n",
    "            \n",
    "            return [dict_produto_valor, produtos_maior_faturamento]\n",
    "        else:\n",
    "            print(f\"Não foram vendidos produtos na data {mes}/{ano}:\")\n",
    "            return [{},[]]\n",
    "    except:\n",
    "        return [{},[]]\n",
    "\n",
    "    \n",
    "# [9]\n",
    "\n",
    "# Vou precisar dessa função extra para salvar os arquivos nas opções 9 e 10 do menu.\n",
    "def escreve_linha_csv(dict_venda: dict) -> dict:\n",
    "    \"\"\"\n",
    "        Prepara o dicionário para escrita no arquivo csv.\n",
    "        * Recebe um dicionário no estilo {0: {venda0}, 1: {venda1}, ...}\n",
    "        * Retorna uma lista [{venda_x}] onde {venda_x} = {\"id\": x, \"produtos\": [produtos], ...}\n",
    "    \"\"\"\n",
    "    try:\n",
    "        lista_vendas = list(dict_venda.values())\n",
    "        id_vendas = list(dict_venda.keys())\n",
    "\n",
    "        # Como as chaves \"produtos\", \"valores\" e \"quantidades\" armazenam listas,\n",
    "        # irei organiza-las em strings para facilitar a escrita no arquivo csv.\n",
    "        for i in range(len(lista_vendas)):\n",
    "            # Preciso também adicionar o campo \"id\" nos dicionários das vendas individuais.\n",
    "            lista_vendas[i] = {\"id\": id_vendas[i]} | lista_vendas[i]\n",
    "\n",
    "            for chave in lista_vendas[i]:\n",
    "                if (chave==\"produtos\"):\n",
    "                    lista_vendas[i][chave] = \"; \".join(lista_vendas[i][chave])\n",
    "                elif (chave==\"valores\") or (chave==\"quantidades\"):\n",
    "                    temp_lista = [str(v) for v in lista_vendas[i][chave]]\n",
    "                    lista_vendas[i][chave] = \"; \".join(temp_lista)\n",
    "            yield lista_vendas[i]\n",
    "    except:\n",
    "        print(\"Erro ao preparar o dicionário para escrita no arquivo csv.\")\n",
    "\n",
    "\n",
    "def salvar_db():\n",
    "    \"\"\"\n",
    "        Salva o que está escrito no dicionário db_vendas no arquivo db_vendas.csv\n",
    "    \"\"\"\n",
    "    try:\n",
    "        if len(db_vendas) != 0:\n",
    "            # Criando uma lista no estilo [{venda1}, {venda2}, ...] utilizando uma função geradora.\n",
    "            lista_linhas = []\n",
    "            for linha in escreve_linha_csv(db_vendas):\n",
    "                lista_linhas.append(linha)\n",
    "\n",
    "            with open(\"db_vendas.csv\", 'w') as db:\n",
    "                escritor = csv.DictWriter(db,\n",
    "                                          fieldnames=lista_linhas[0].keys(),\n",
    "                                          lineterminator='\\n')\n",
    "                escritor.writeheader()\n",
    "                escritor.writerows(lista_linhas)\n",
    "\n",
    "            print(\"Alterações salvas no arquivo db_vendas.csv com sucesso!\")\n",
    "        else:\n",
    "            print(\"Não há vendas cadastradas.\")\n",
    "    except:\n",
    "        print(\"Erro ao salvar as vendas no banco de dados.\")\n",
    "    \n",
    "    \n",
    "# [10]\n",
    "def converter_dolar(cotacao: float) -> None:\n",
    "    try:\n",
    "        if len(db_vendas) != 0:\n",
    "            # Criando um dicionário cópia de db_vendas mas com valores dos produtos em dólar:\n",
    "            db_dolar = deepcopy(db_vendas)\n",
    "            for id_venda in db_dolar:\n",
    "                db_dolar[id_venda][\"valores\"] = [\n",
    "                    round(valor/cotacao, 2) for valor in db_dolar[id_venda][\"valores\"]\n",
    "                    if db_dolar[id_venda][\"info_adicional\"] != \"Venda cancelada\"\n",
    "                ]\n",
    "\n",
    "            # Criando uma lista no estilo [{venda1}, {venda2}, ...] utilizando uma função geradora\n",
    "            lista_linhas = []\n",
    "            for linha in escreve_linha_csv(db_dolar):\n",
    "                lista_linhas.append(linha)\n",
    "            \n",
    "            nome_arquivo = \"db_dolar_\" + str(round(cotacao, 2)) + \".csv\"\n",
    "            \n",
    "            with open(nome_arquivo, 'w') as db_dolar:\n",
    "                escritor = csv.DictWriter(db_dolar,\n",
    "                                          fieldnames=lista_linhas[0].keys(),\n",
    "                                          lineterminator='\\n')\n",
    "                escritor.writeheader()\n",
    "                escritor.writerows(lista_linhas)\n",
    "\n",
    "            print(f\"Valores convertidos para dólar. Arquivo {nome_arquivo} salvo com sucesso!\")\n",
    "        else:\n",
    "            print(f\"Nenhuma venda identificada. O arquivo {nome_arquivo} não foi salvo.\")\n",
    "    except:\n",
    "        print(\"Erro ao converter e salvar arquivo.\")"
   ]
  },
  {
   "cell_type": "markdown",
   "id": "fdcd77a1-a876-469a-ba9c-538fbebc78f1",
   "metadata": {},
   "source": [
    "## Main"
   ]
  },
  {
   "cell_type": "markdown",
   "id": "c74b6eae-8564-4c04-a050-f9d3d4f91658",
   "metadata": {},
   "source": [
    "Resumo do sistema:\n",
    "\n",
    "* Primeiramente, se há um arquivo `db_vendas.csv`, os dados são importados para o dicionário `db_vendas`. Caso contrário, `db_vendas = {}`.\n",
    "* O usuário faz seu login no sistema.\n",
    "* O usuário navega pelo menu fazendo cadastros ou alterações.\n",
    "* O usuário pode salvar as alterações no arquivo `db_vendas.csv`.\n",
    "* O usuário pode converter os valores do dicionário `db_vendas` para dólar e salvar em um arquivo `db_dolar.csv`.\n",
    "    * __Se não for selecionada a opção `9` ou `10` do menu em algum momento, as alterações da sessão não serão salvas, permanecendo apenas os dados anteriores.__\n",
    "* O usuário pode gerar relatórios (como exibir vendas, catálogo de produtos, vendedor do mês, etc), só que esses relatórios não são salvos em nenhum arquivo externo."
   ]
  },
  {
   "cell_type": "markdown",
   "id": "b06e2ab6-31b7-40d8-a7ca-6a573a4f6ac2",
   "metadata": {},
   "source": [
    "Exemplo de valor a ser registrado no arquivo `db_vendas.csv`:\n",
    "\n",
    "| id | produtos | valores | quantidades | cpf_comprador | nome_vendedor | dia | mes | ano | info_adicional |\n",
    "| -- | -- | -- | -- | -- | -- | -- | -- | -- | -- |\n",
    "| 0 | Camisa; Calça | 90; 120 | 1; 2 | 12345678900 | Gabriel | 11 | 6 | 2023 | Pagamento a prazo |\n",
    "| 1 |  |  |  |  |  |  |  |  | Venda cancelada |"
   ]
  },
  {
   "cell_type": "code",
   "execution_count": 6,
   "id": "c3f87e98-9b8d-42f0-a53f-c5449e7873b9",
   "metadata": {
    "tags": []
   },
   "outputs": [
    {
     "name": "stdout",
     "output_type": "stream",
     "text": [
      "Procurando o banco de dados \"db_vendas.csv\"...\n",
      "Arquivo encontrado!\n",
      "\n",
      "##### Sistema de Gerenciamento de Vendas #####\n"
     ]
    },
    {
     "name": "stdin",
     "output_type": "stream",
     "text": [
      "\n",
      "Realizar login? (S/N): s\n",
      "Usuário: Gabriel\n",
      "Senha: abc\n"
     ]
    },
    {
     "name": "stdout",
     "output_type": "stream",
     "text": [
      "Bem-vindo(a), Gabriel!\n",
      "\n",
      "##### Menu #####\n",
      "\n",
      "0. Exibe o menu novamente\n",
      "1. Exibe o catálogo de produtos da loja\n",
      "2. Cadastrar venda\n",
      "3. Excluir venda\n",
      "4. Exibir vendas cadastradas\n",
      "5. Editar venda cadastrada\n",
      "6. Calcular o valor total e o valor médio das vendas em um determinado mês\n",
      "7. Vendedor do mês\n",
      "8. Produto do mês\n",
      "9. Salvar as vendas no arquivo db_vendas.csv\n",
      "10. Converter os valores em dólares e salvar dados em um novo arquivo\n",
      "\t* Essa operação salva também as novas vendas cadastradas no arquivo db_vendas.csv.\n",
      "11. Sair\n",
      "\n",
      "Não se esqueça de salvar as alterações (opção 9) antes de sair!\n",
      "\n"
     ]
    },
    {
     "name": "stdin",
     "output_type": "stream",
     "text": [
      "O que deseja realizar? Número correspondente às opções do menu: 4\n"
     ]
    },
    {
     "name": "stdout",
     "output_type": "stream",
     "text": [
      "\n",
      "##### [4] Exibir vendas:\n",
      "\n",
      "ID: 0\n",
      "Venda cancelada.\n",
      "\n",
      "ID: 1\n",
      "Venda cancelada.\n",
      "\n",
      "ID: 2\n",
      "produtos: ['Camisa']\n",
      "valores: [90]\n",
      "quantidades: [1]\n",
      "cpf_comprador: 123456789\n",
      "nome_vendedor: Gabriel\n",
      "dia: 11\n",
      "mes: 12\n",
      "ano: 2023\n",
      "info_adicional: \n",
      "\n"
     ]
    },
    {
     "name": "stdin",
     "output_type": "stream",
     "text": [
      "O que deseja realizar? Número correspondente às opções do menu: 6\n"
     ]
    },
    {
     "name": "stdout",
     "output_type": "stream",
     "text": [
      "\n",
      "##### [6] Calcular o valor total e médio das vendas de um mês:\n",
      "\n"
     ]
    },
    {
     "name": "stdin",
     "output_type": "stream",
     "text": [
      "Informe o mês e o ano de interesse (formato mm/aaaa): 12/2023\n"
     ]
    },
    {
     "name": "stdout",
     "output_type": "stream",
     "text": [
      "\n",
      "Quantidade de vendas realizadas na data 12/2023: 1\n",
      ". Total vendido: R$ 90,00\n",
      ". Média por venda: R$ 90.00\n",
      "\n"
     ]
    },
    {
     "name": "stdin",
     "output_type": "stream",
     "text": [
      "O que deseja realizar? Número correspondente às opções do menu: 7\n"
     ]
    },
    {
     "name": "stdout",
     "output_type": "stream",
     "text": [
      "\n",
      "##### [7] Vendedor do mês:\n",
      "\n"
     ]
    },
    {
     "name": "stdin",
     "output_type": "stream",
     "text": [
      "Informe o mês e o ano de interesse (formato mm/aaaa): 12/2023\n"
     ]
    },
    {
     "name": "stdout",
     "output_type": "stream",
     "text": [
      "\n",
      "Vendedores que tiveram faturamento na data 12/2023:\n",
      ". Gabriel: R$ 90,00\n",
      "\n",
      "Vendedor(es) do mês (aquele(s) com o maior faturamento):\n",
      ". Gabriel: R$ 90,00\n",
      "\n"
     ]
    },
    {
     "name": "stdin",
     "output_type": "stream",
     "text": [
      "O que deseja realizar? Número correspondente às opções do menu: 8\n"
     ]
    },
    {
     "name": "stdout",
     "output_type": "stream",
     "text": [
      "\n",
      "##### [8] Produto do mês:\n",
      "\n"
     ]
    },
    {
     "name": "stdin",
     "output_type": "stream",
     "text": [
      "Informe o mês e o ano de interesse (formato mm/aaaa): 12/2023\n"
     ]
    },
    {
     "name": "stdout",
     "output_type": "stream",
     "text": [
      "\n",
      "Produtos vendidos na data 12/2023:\n",
      ". Camisa: R$ 90,00\n",
      "\n",
      "Produto(s) do mês (aquele(s) com maior faturamento):\n",
      ". Camisa: R$ 90,00\n",
      "\n"
     ]
    },
    {
     "name": "stdin",
     "output_type": "stream",
     "text": [
      "O que deseja realizar? Número correspondente às opções do menu: 9\n"
     ]
    },
    {
     "name": "stdout",
     "output_type": "stream",
     "text": [
      "\n",
      "##### [9] Salvar as vendas no arquivo db_vendas.csv:\n",
      "\n",
      "Alterações salvas no arquivo db_vendas.csv com sucesso!\n",
      "\n"
     ]
    },
    {
     "name": "stdin",
     "output_type": "stream",
     "text": [
      "O que deseja realizar? Número correspondente às opções do menu: 3\n"
     ]
    },
    {
     "name": "stdout",
     "output_type": "stream",
     "text": [
      "\n",
      "##### [3] Excluir venda:\n",
      "\n"
     ]
    },
    {
     "name": "stdin",
     "output_type": "stream",
     "text": [
      "Informe o ID da venda a ser excluída: 0\n"
     ]
    },
    {
     "name": "stdout",
     "output_type": "stream",
     "text": [
      "\n",
      "Venda excluída com sucesso!\n",
      "\n"
     ]
    },
    {
     "name": "stdin",
     "output_type": "stream",
     "text": [
      "O que deseja realizar? Número correspondente às opções do menu: 4\n"
     ]
    },
    {
     "name": "stdout",
     "output_type": "stream",
     "text": [
      "\n",
      "##### [4] Exibir vendas:\n",
      "\n",
      "ID: 0\n",
      "Venda cancelada.\n",
      "\n",
      "ID: 1\n",
      "Venda cancelada.\n",
      "\n",
      "ID: 2\n",
      "produtos: ['Camisa']\n",
      "valores: [90]\n",
      "quantidades: [1]\n",
      "cpf_comprador: 123456789\n",
      "nome_vendedor: Gabriel\n",
      "dia: 11\n",
      "mes: 12\n",
      "ano: 2023\n",
      "info_adicional: \n",
      "\n"
     ]
    },
    {
     "name": "stdin",
     "output_type": "stream",
     "text": [
      "O que deseja realizar? Número correspondente às opções do menu: 5\n"
     ]
    },
    {
     "name": "stdout",
     "output_type": "stream",
     "text": [
      "\n",
      "##### [5] Editar venda cadastrada:\n",
      "\n"
     ]
    },
    {
     "name": "stdin",
     "output_type": "stream",
     "text": [
      "Informe o ID da venda a ser editada: asda\n"
     ]
    },
    {
     "name": "stdout",
     "output_type": "stream",
     "text": [
      "Input inválido.\n",
      "\n"
     ]
    },
    {
     "name": "stdin",
     "output_type": "stream",
     "text": [
      "Informe o ID da venda a ser editada: 123\n"
     ]
    },
    {
     "name": "stdout",
     "output_type": "stream",
     "text": [
      "Input inválido.\n",
      "\n"
     ]
    },
    {
     "name": "stdin",
     "output_type": "stream",
     "text": [
      "Informe o ID da venda a ser editada: 12\n"
     ]
    },
    {
     "name": "stdout",
     "output_type": "stream",
     "text": [
      "Input inválido.\n",
      "\n"
     ]
    },
    {
     "name": "stdin",
     "output_type": "stream",
     "text": [
      "Informe o ID da venda a ser editada: 3\n"
     ]
    },
    {
     "name": "stdout",
     "output_type": "stream",
     "text": [
      "Input inválido.\n",
      "\n"
     ]
    },
    {
     "name": "stdin",
     "output_type": "stream",
     "text": [
      "Informe o ID da venda a ser editada: 2\n"
     ]
    },
    {
     "name": "stdout",
     "output_type": "stream",
     "text": [
      "\n"
     ]
    },
    {
     "name": "stdin",
     "output_type": "stream",
     "text": [
      "Nome do(s) produto(s) vendido(s) (separar por vírgula): Camisa, Calça\n"
     ]
    },
    {
     "name": "stdout",
     "output_type": "stream",
     "text": [
      "\n"
     ]
    },
    {
     "name": "stdin",
     "output_type": "stream",
     "text": [
      "Quantidade do(s) produto(s) vendido(s), respectivamente (separar por vírgula): 2,5\n"
     ]
    },
    {
     "name": "stdout",
     "output_type": "stream",
     "text": [
      "\n"
     ]
    },
    {
     "name": "stdin",
     "output_type": "stream",
     "text": [
      "CPF do comprador: 12345678900\n"
     ]
    },
    {
     "name": "stdout",
     "output_type": "stream",
     "text": [
      "\n"
     ]
    },
    {
     "name": "stdin",
     "output_type": "stream",
     "text": [
      "Data da venda (formato dd/mm/aaaa): 11/06/2023\n"
     ]
    },
    {
     "name": "stdout",
     "output_type": "stream",
     "text": [
      "\n"
     ]
    },
    {
     "name": "stdin",
     "output_type": "stream",
     "text": [
      "Informações adicionais: \n"
     ]
    },
    {
     "name": "stdout",
     "output_type": "stream",
     "text": [
      "\n",
      "Venda cadastrada com sucesso!\n",
      "\n"
     ]
    },
    {
     "name": "stdin",
     "output_type": "stream",
     "text": [
      "O que deseja realizar? Número correspondente às opções do menu: 2\n"
     ]
    },
    {
     "name": "stdout",
     "output_type": "stream",
     "text": [
      "\n",
      "##### [2] Cadastrar venda:\n",
      "\n",
      "ID a ser cadastrado: 3\n",
      "\n"
     ]
    },
    {
     "name": "stdin",
     "output_type": "stream",
     "text": [
      "Nome do(s) produto(s) vendido(s) (separar por vírgula): Jaqueta, Camisa\n"
     ]
    },
    {
     "name": "stdout",
     "output_type": "stream",
     "text": [
      "\n"
     ]
    },
    {
     "name": "stdin",
     "output_type": "stream",
     "text": [
      "Quantidade do(s) produto(s) vendido(s), respectivamente (separar por vírgula): 2,5\n"
     ]
    },
    {
     "name": "stdout",
     "output_type": "stream",
     "text": [
      "\n"
     ]
    },
    {
     "name": "stdin",
     "output_type": "stream",
     "text": [
      "CPF do comprador: 74185296333\n"
     ]
    },
    {
     "name": "stdout",
     "output_type": "stream",
     "text": [
      "\n"
     ]
    },
    {
     "name": "stdin",
     "output_type": "stream",
     "text": [
      "Data da venda (formato dd/mm/aaaa): 17/6/2023\n"
     ]
    },
    {
     "name": "stdout",
     "output_type": "stream",
     "text": [
      "\n"
     ]
    },
    {
     "name": "stdin",
     "output_type": "stream",
     "text": [
      "Informações adicionais: Pagamento em dinheiro\n"
     ]
    },
    {
     "name": "stdout",
     "output_type": "stream",
     "text": [
      "\n",
      "Venda cadastrada com sucesso!\n",
      "\n"
     ]
    },
    {
     "name": "stdin",
     "output_type": "stream",
     "text": [
      "O que deseja realizar? Número correspondente às opções do menu: 11\n"
     ]
    },
    {
     "name": "stdout",
     "output_type": "stream",
     "text": [
      "Até breve, Gabriel!\n"
     ]
    },
    {
     "name": "stdin",
     "output_type": "stream",
     "text": [
      "\n",
      "Realizar login? (S/N): s\n",
      "Usuário: Daniela\n",
      "Senha: hjk\n"
     ]
    },
    {
     "name": "stdout",
     "output_type": "stream",
     "text": [
      "Bem-vindo(a), Daniela!\n",
      "\n",
      "##### Menu #####\n",
      "\n",
      "0. Exibe o menu novamente\n",
      "1. Exibe o catálogo de produtos da loja\n",
      "2. Cadastrar venda\n",
      "3. Excluir venda\n",
      "4. Exibir vendas cadastradas\n",
      "5. Editar venda cadastrada\n",
      "6. Calcular o valor total e o valor médio das vendas em um determinado mês\n",
      "7. Vendedor do mês\n",
      "8. Produto do mês\n",
      "9. Salvar as vendas no arquivo db_vendas.csv\n",
      "10. Converter os valores em dólares e salvar dados em um novo arquivo\n",
      "\t* Essa operação salva também as novas vendas cadastradas no arquivo db_vendas.csv.\n",
      "11. Sair\n",
      "\n",
      "Não se esqueça de salvar as alterações (opção 9) antes de sair!\n",
      "\n"
     ]
    },
    {
     "name": "stdin",
     "output_type": "stream",
     "text": [
      "O que deseja realizar? Número correspondente às opções do menu: 2\n"
     ]
    },
    {
     "name": "stdout",
     "output_type": "stream",
     "text": [
      "\n",
      "##### [2] Cadastrar venda:\n",
      "\n",
      "ID a ser cadastrado: 4\n",
      "\n"
     ]
    },
    {
     "name": "stdin",
     "output_type": "stream",
     "text": [
      "Nome do(s) produto(s) vendido(s) (separar por vírgula): Saia, Óculos, Vestido\n"
     ]
    },
    {
     "name": "stdout",
     "output_type": "stream",
     "text": [
      "\n"
     ]
    },
    {
     "name": "stdin",
     "output_type": "stream",
     "text": [
      "Quantidade do(s) produto(s) vendido(s), respectivamente (separar por vírgula): 3,1,5\n"
     ]
    },
    {
     "name": "stdout",
     "output_type": "stream",
     "text": [
      "\n"
     ]
    },
    {
     "name": "stdin",
     "output_type": "stream",
     "text": [
      "CPF do comprador: 85278945612\n"
     ]
    },
    {
     "name": "stdout",
     "output_type": "stream",
     "text": [
      "\n"
     ]
    },
    {
     "name": "stdin",
     "output_type": "stream",
     "text": [
      "Data da venda (formato dd/mm/aaaa): 11/5/2023\n"
     ]
    },
    {
     "name": "stdout",
     "output_type": "stream",
     "text": [
      "\n"
     ]
    },
    {
     "name": "stdin",
     "output_type": "stream",
     "text": [
      "Informações adicionais: \n"
     ]
    },
    {
     "name": "stdout",
     "output_type": "stream",
     "text": [
      "\n",
      "Venda cadastrada com sucesso!\n",
      "\n"
     ]
    },
    {
     "name": "stdin",
     "output_type": "stream",
     "text": [
      "O que deseja realizar? Número correspondente às opções do menu: 2\n"
     ]
    },
    {
     "name": "stdout",
     "output_type": "stream",
     "text": [
      "\n",
      "##### [2] Cadastrar venda:\n",
      "\n",
      "ID a ser cadastrado: 5\n",
      "\n"
     ]
    },
    {
     "name": "stdin",
     "output_type": "stream",
     "text": [
      "Nome do(s) produto(s) vendido(s) (separar por vírgula): Óculos, Colar\n"
     ]
    },
    {
     "name": "stdout",
     "output_type": "stream",
     "text": [
      "\n"
     ]
    },
    {
     "name": "stdin",
     "output_type": "stream",
     "text": [
      "Quantidade do(s) produto(s) vendido(s), respectivamente (separar por vírgula): 5,5\n"
     ]
    },
    {
     "name": "stdout",
     "output_type": "stream",
     "text": [
      "\n"
     ]
    },
    {
     "name": "stdin",
     "output_type": "stream",
     "text": [
      "CPF do comprador: 74112345689\n"
     ]
    },
    {
     "name": "stdout",
     "output_type": "stream",
     "text": [
      "\n"
     ]
    },
    {
     "name": "stdin",
     "output_type": "stream",
     "text": [
      "Data da venda (formato dd/mm/aaaa): 13/06/2023\n"
     ]
    },
    {
     "name": "stdout",
     "output_type": "stream",
     "text": [
      "\n"
     ]
    },
    {
     "name": "stdin",
     "output_type": "stream",
     "text": [
      "Informações adicionais: Pagamento a prazo\n"
     ]
    },
    {
     "name": "stdout",
     "output_type": "stream",
     "text": [
      "\n",
      "Venda cadastrada com sucesso!\n",
      "\n"
     ]
    },
    {
     "name": "stdin",
     "output_type": "stream",
     "text": [
      "O que deseja realizar? Número correspondente às opções do menu: 10\n"
     ]
    },
    {
     "name": "stdout",
     "output_type": "stream",
     "text": [
      "\n",
      "##### [10] Converter os valores em dólares e salvar dados em um novo arquivo:\n",
      "\n"
     ]
    },
    {
     "name": "stdin",
     "output_type": "stream",
     "text": [
      "Quantos dólares está valendo R$ 1,00? 4.79\n"
     ]
    },
    {
     "name": "stdout",
     "output_type": "stream",
     "text": [
      "\n",
      "Alterações salvas no arquivo db_vendas.csv com sucesso!\n",
      "Valores convertidos para dólar. Arquivo db_dolar_4.79.csv salvo com sucesso!\n",
      "\n"
     ]
    },
    {
     "name": "stdin",
     "output_type": "stream",
     "text": [
      "O que deseja realizar? Número correspondente às opções do menu: 0\n"
     ]
    },
    {
     "name": "stdout",
     "output_type": "stream",
     "text": [
      "\n",
      "##### Menu #####\n",
      "\n",
      "0. Exibe o menu novamente\n",
      "1. Exibe o catálogo de produtos da loja\n",
      "2. Cadastrar venda\n",
      "3. Excluir venda\n",
      "4. Exibir vendas cadastradas\n",
      "5. Editar venda cadastrada\n",
      "6. Calcular o valor total e o valor médio das vendas em um determinado mês\n",
      "7. Vendedor do mês\n",
      "8. Produto do mês\n",
      "9. Salvar as vendas no arquivo db_vendas.csv\n",
      "10. Converter os valores em dólares e salvar dados em um novo arquivo\n",
      "\t* Essa operação salva também as novas vendas cadastradas no arquivo db_vendas.csv.\n",
      "11. Sair\n",
      "\n",
      "Não se esqueça de salvar as alterações (opção 9) antes de sair!\n",
      "\n"
     ]
    },
    {
     "name": "stdin",
     "output_type": "stream",
     "text": [
      "O que deseja realizar? Número correspondente às opções do menu: 4\n"
     ]
    },
    {
     "name": "stdout",
     "output_type": "stream",
     "text": [
      "\n",
      "##### [4] Exibir vendas:\n",
      "\n",
      "ID: 0\n",
      "Venda cancelada.\n",
      "\n",
      "ID: 1\n",
      "Venda cancelada.\n",
      "\n",
      "ID: 2\n",
      "produtos: ['Camisa', 'Calça']\n",
      "valores: [90, 120]\n",
      "quantidades: [2, 5]\n",
      "cpf_comprador: 12345678900\n",
      "nome_vendedor: Gabriel\n",
      "dia: 11\n",
      "mes: 6\n",
      "ano: 2023\n",
      "info_adicional: \n",
      "\n",
      "ID: 3\n",
      "produtos: ['Jaqueta', 'Camisa']\n",
      "valores: [350, 90]\n",
      "quantidades: [2, 5]\n",
      "cpf_comprador: 74185296333\n",
      "nome_vendedor: Gabriel\n",
      "dia: 17\n",
      "mes: 6\n",
      "ano: 2023\n",
      "info_adicional: Pagamento em dinheiro\n",
      "\n",
      "ID: 4\n",
      "produtos: ['Saia', 'Óculos', 'Vestido']\n",
      "valores: [70, 110, 200]\n",
      "quantidades: [3, 1, 5]\n",
      "cpf_comprador: 85278945612\n",
      "nome_vendedor: Daniela\n",
      "dia: 11\n",
      "mes: 5\n",
      "ano: 2023\n",
      "info_adicional: \n",
      "\n",
      "ID: 5\n",
      "produtos: ['Óculos', 'Colar']\n",
      "valores: [110, 160]\n",
      "quantidades: [5, 5]\n",
      "cpf_comprador: 74112345689\n",
      "nome_vendedor: Daniela\n",
      "dia: 13\n",
      "mes: 6\n",
      "ano: 2023\n",
      "info_adicional: Pagamento a prazo\n",
      "\n"
     ]
    },
    {
     "name": "stdin",
     "output_type": "stream",
     "text": [
      "O que deseja realizar? Número correspondente às opções do menu: 0\n"
     ]
    },
    {
     "name": "stdout",
     "output_type": "stream",
     "text": [
      "\n",
      "##### Menu #####\n",
      "\n",
      "0. Exibe o menu novamente\n",
      "1. Exibe o catálogo de produtos da loja\n",
      "2. Cadastrar venda\n",
      "3. Excluir venda\n",
      "4. Exibir vendas cadastradas\n",
      "5. Editar venda cadastrada\n",
      "6. Calcular o valor total e o valor médio das vendas em um determinado mês\n",
      "7. Vendedor do mês\n",
      "8. Produto do mês\n",
      "9. Salvar as vendas no arquivo db_vendas.csv\n",
      "10. Converter os valores em dólares e salvar dados em um novo arquivo\n",
      "\t* Essa operação salva também as novas vendas cadastradas no arquivo db_vendas.csv.\n",
      "11. Sair\n",
      "\n",
      "Não se esqueça de salvar as alterações (opção 9) antes de sair!\n",
      "\n"
     ]
    },
    {
     "name": "stdin",
     "output_type": "stream",
     "text": [
      "O que deseja realizar? Número correspondente às opções do menu: 7\n"
     ]
    },
    {
     "name": "stdout",
     "output_type": "stream",
     "text": [
      "\n",
      "##### [7] Vendedor do mês:\n",
      "\n"
     ]
    },
    {
     "name": "stdin",
     "output_type": "stream",
     "text": [
      "Informe o mês e o ano de interesse (formato mm/aaaa): 6/2023\n"
     ]
    },
    {
     "name": "stdout",
     "output_type": "stream",
     "text": [
      "\n",
      "Vendedores que tiveram faturamento na data 6/2023:\n",
      ". Gabriel: R$ 1930,00\n",
      ". Daniela: R$ 1350,00\n",
      "\n",
      "Vendedor(es) do mês (aquele(s) com o maior faturamento):\n",
      ". Gabriel: R$ 1930,00\n",
      "\n"
     ]
    },
    {
     "name": "stdin",
     "output_type": "stream",
     "text": [
      "O que deseja realizar? Número correspondente às opções do menu: 11\n"
     ]
    },
    {
     "name": "stdout",
     "output_type": "stream",
     "text": [
      "Até breve, Daniela!\n"
     ]
    },
    {
     "name": "stdin",
     "output_type": "stream",
     "text": [
      "\n",
      "Realizar login? (S/N): s\n",
      "Usuário: João\n",
      "Senha: 123\n"
     ]
    },
    {
     "name": "stdout",
     "output_type": "stream",
     "text": [
      "Bem-vindo(a), João!\n",
      "\n",
      "##### Menu #####\n",
      "\n",
      "0. Exibe o menu novamente\n",
      "1. Exibe o catálogo de produtos da loja\n",
      "2. Cadastrar venda\n",
      "3. Excluir venda\n",
      "4. Exibir vendas cadastradas\n",
      "5. Editar venda cadastrada\n",
      "6. Calcular o valor total e o valor médio das vendas em um determinado mês\n",
      "7. Vendedor do mês\n",
      "8. Produto do mês\n",
      "9. Salvar as vendas no arquivo db_vendas.csv\n",
      "10. Converter os valores em dólares e salvar dados em um novo arquivo\n",
      "\t* Essa operação salva também as novas vendas cadastradas no arquivo db_vendas.csv.\n",
      "11. Sair\n",
      "\n",
      "Não se esqueça de salvar as alterações (opção 9) antes de sair!\n",
      "\n"
     ]
    },
    {
     "name": "stdin",
     "output_type": "stream",
     "text": [
      "O que deseja realizar? Número correspondente às opções do menu: 2\n"
     ]
    },
    {
     "name": "stdout",
     "output_type": "stream",
     "text": [
      "\n",
      "##### [2] Cadastrar venda:\n",
      "\n",
      "ID a ser cadastrado: 6\n",
      "\n"
     ]
    },
    {
     "name": "stdin",
     "output_type": "stream",
     "text": [
      "Nome do(s) produto(s) vendido(s) (separar por vírgula): Vestido\n"
     ]
    },
    {
     "name": "stdout",
     "output_type": "stream",
     "text": [
      "\n"
     ]
    },
    {
     "name": "stdin",
     "output_type": "stream",
     "text": [
      "Quantidade do(s) produto(s) vendido(s), respectivamente (separar por vírgula): 1\n"
     ]
    },
    {
     "name": "stdout",
     "output_type": "stream",
     "text": [
      "\n"
     ]
    },
    {
     "name": "stdin",
     "output_type": "stream",
     "text": [
      "CPF do comprador: 75342189600\n"
     ]
    },
    {
     "name": "stdout",
     "output_type": "stream",
     "text": [
      "\n"
     ]
    },
    {
     "name": "stdin",
     "output_type": "stream",
     "text": [
      "Data da venda (formato dd/mm/aaaa): 1/2/2023\n"
     ]
    },
    {
     "name": "stdout",
     "output_type": "stream",
     "text": [
      "\n"
     ]
    },
    {
     "name": "stdin",
     "output_type": "stream",
     "text": [
      "Informações adicionais: \n"
     ]
    },
    {
     "name": "stdout",
     "output_type": "stream",
     "text": [
      "\n",
      "Venda cadastrada com sucesso!\n",
      "\n"
     ]
    },
    {
     "name": "stdin",
     "output_type": "stream",
     "text": [
      "O que deseja realizar? Número correspondente às opções do menu: 11\n"
     ]
    },
    {
     "name": "stdout",
     "output_type": "stream",
     "text": [
      "Até breve, João!\n"
     ]
    },
    {
     "name": "stdin",
     "output_type": "stream",
     "text": [
      "\n",
      "Realizar login? (S/N): s\n",
      "Usuário: Maria\n",
      "Senha: a\n"
     ]
    },
    {
     "name": "stdout",
     "output_type": "stream",
     "text": [
      "Usuário ou senha inválidos!\n"
     ]
    },
    {
     "name": "stdin",
     "output_type": "stream",
     "text": [
      "\n",
      "Realizar login? (S/N): s\n",
      "Usuário: Maria\n",
      "Senha: 456\n"
     ]
    },
    {
     "name": "stdout",
     "output_type": "stream",
     "text": [
      "Bem-vindo(a), Maria!\n",
      "\n",
      "##### Menu #####\n",
      "\n",
      "0. Exibe o menu novamente\n",
      "1. Exibe o catálogo de produtos da loja\n",
      "2. Cadastrar venda\n",
      "3. Excluir venda\n",
      "4. Exibir vendas cadastradas\n",
      "5. Editar venda cadastrada\n",
      "6. Calcular o valor total e o valor médio das vendas em um determinado mês\n",
      "7. Vendedor do mês\n",
      "8. Produto do mês\n",
      "9. Salvar as vendas no arquivo db_vendas.csv\n",
      "10. Converter os valores em dólares e salvar dados em um novo arquivo\n",
      "\t* Essa operação salva também as novas vendas cadastradas no arquivo db_vendas.csv.\n",
      "11. Sair\n",
      "\n",
      "Não se esqueça de salvar as alterações (opção 9) antes de sair!\n",
      "\n"
     ]
    },
    {
     "name": "stdin",
     "output_type": "stream",
     "text": [
      "O que deseja realizar? Número correspondente às opções do menu: 2\n"
     ]
    },
    {
     "name": "stdout",
     "output_type": "stream",
     "text": [
      "\n",
      "##### [2] Cadastrar venda:\n",
      "\n",
      "ID a ser cadastrado: 7\n",
      "\n"
     ]
    },
    {
     "name": "stdin",
     "output_type": "stream",
     "text": [
      "Nome do(s) produto(s) vendido(s) (separar por vírgula): Chapéu\n"
     ]
    },
    {
     "name": "stdout",
     "output_type": "stream",
     "text": [
      "\n"
     ]
    },
    {
     "name": "stdin",
     "output_type": "stream",
     "text": [
      "Quantidade do(s) produto(s) vendido(s), respectivamente (separar por vírgula): 5\n"
     ]
    },
    {
     "name": "stdout",
     "output_type": "stream",
     "text": [
      "\n"
     ]
    },
    {
     "name": "stdin",
     "output_type": "stream",
     "text": [
      "CPF do comprador: 78945678955\n"
     ]
    },
    {
     "name": "stdout",
     "output_type": "stream",
     "text": [
      "\n"
     ]
    },
    {
     "name": "stdin",
     "output_type": "stream",
     "text": [
      "Data da venda (formato dd/mm/aaaa): 13/2/2023\n"
     ]
    },
    {
     "name": "stdout",
     "output_type": "stream",
     "text": [
      "\n"
     ]
    },
    {
     "name": "stdin",
     "output_type": "stream",
     "text": [
      "Informações adicionais: \n"
     ]
    },
    {
     "name": "stdout",
     "output_type": "stream",
     "text": [
      "\n",
      "Venda cadastrada com sucesso!\n",
      "\n"
     ]
    },
    {
     "name": "stdin",
     "output_type": "stream",
     "text": [
      "O que deseja realizar? Número correspondente às opções do menu: 4\n"
     ]
    },
    {
     "name": "stdout",
     "output_type": "stream",
     "text": [
      "\n",
      "##### [4] Exibir vendas:\n",
      "\n",
      "ID: 0\n",
      "Venda cancelada.\n",
      "\n",
      "ID: 1\n",
      "Venda cancelada.\n",
      "\n",
      "ID: 2\n",
      "produtos: ['Camisa', 'Calça']\n",
      "valores: [90, 120]\n",
      "quantidades: [2, 5]\n",
      "cpf_comprador: 12345678900\n",
      "nome_vendedor: Gabriel\n",
      "dia: 11\n",
      "mes: 6\n",
      "ano: 2023\n",
      "info_adicional: \n",
      "\n",
      "ID: 3\n",
      "produtos: ['Jaqueta', 'Camisa']\n",
      "valores: [350, 90]\n",
      "quantidades: [2, 5]\n",
      "cpf_comprador: 74185296333\n",
      "nome_vendedor: Gabriel\n",
      "dia: 17\n",
      "mes: 6\n",
      "ano: 2023\n",
      "info_adicional: Pagamento em dinheiro\n",
      "\n",
      "ID: 4\n",
      "produtos: ['Saia', 'Óculos', 'Vestido']\n",
      "valores: [70, 110, 200]\n",
      "quantidades: [3, 1, 5]\n",
      "cpf_comprador: 85278945612\n",
      "nome_vendedor: Daniela\n",
      "dia: 11\n",
      "mes: 5\n",
      "ano: 2023\n",
      "info_adicional: \n",
      "\n",
      "ID: 5\n",
      "produtos: ['Óculos', 'Colar']\n",
      "valores: [110, 160]\n",
      "quantidades: [5, 5]\n",
      "cpf_comprador: 74112345689\n",
      "nome_vendedor: Daniela\n",
      "dia: 13\n",
      "mes: 6\n",
      "ano: 2023\n",
      "info_adicional: Pagamento a prazo\n",
      "\n",
      "ID: 6\n",
      "produtos: ['Vestido']\n",
      "valores: [200]\n",
      "quantidades: [1]\n",
      "cpf_comprador: 75342189600\n",
      "nome_vendedor: João\n",
      "dia: 1\n",
      "mes: 2\n",
      "ano: 2023\n",
      "info_adicional: \n",
      "\n",
      "ID: 7\n",
      "produtos: ['Chapéu']\n",
      "valores: [40]\n",
      "quantidades: [5]\n",
      "cpf_comprador: 78945678955\n",
      "nome_vendedor: Maria\n",
      "dia: 13\n",
      "mes: 2\n",
      "ano: 2023\n",
      "info_adicional: \n",
      "\n"
     ]
    },
    {
     "name": "stdin",
     "output_type": "stream",
     "text": [
      "O que deseja realizar? Número correspondente às opções do menu: 10\n"
     ]
    },
    {
     "name": "stdout",
     "output_type": "stream",
     "text": [
      "\n",
      "##### [10] Converter os valores em dólares e salvar dados em um novo arquivo:\n",
      "\n"
     ]
    },
    {
     "name": "stdin",
     "output_type": "stream",
     "text": [
      "Quantos dólares está valendo R$ 1,00? 4.79\n"
     ]
    },
    {
     "name": "stdout",
     "output_type": "stream",
     "text": [
      "\n",
      "Alterações salvas no arquivo db_vendas.csv com sucesso!\n",
      "Valores convertidos para dólar. Arquivo db_dolar_4.79.csv salvo com sucesso!\n",
      "\n"
     ]
    },
    {
     "name": "stdin",
     "output_type": "stream",
     "text": [
      "O que deseja realizar? Número correspondente às opções do menu: 0\n"
     ]
    },
    {
     "name": "stdout",
     "output_type": "stream",
     "text": [
      "\n",
      "##### Menu #####\n",
      "\n",
      "0. Exibe o menu novamente\n",
      "1. Exibe o catálogo de produtos da loja\n",
      "2. Cadastrar venda\n",
      "3. Excluir venda\n",
      "4. Exibir vendas cadastradas\n",
      "5. Editar venda cadastrada\n",
      "6. Calcular o valor total e o valor médio das vendas em um determinado mês\n",
      "7. Vendedor do mês\n",
      "8. Produto do mês\n",
      "9. Salvar as vendas no arquivo db_vendas.csv\n",
      "10. Converter os valores em dólares e salvar dados em um novo arquivo\n",
      "\t* Essa operação salva também as novas vendas cadastradas no arquivo db_vendas.csv.\n",
      "11. Sair\n",
      "\n",
      "Não se esqueça de salvar as alterações (opção 9) antes de sair!\n",
      "\n"
     ]
    },
    {
     "name": "stdin",
     "output_type": "stream",
     "text": [
      "O que deseja realizar? Número correspondente às opções do menu: 7\n"
     ]
    },
    {
     "name": "stdout",
     "output_type": "stream",
     "text": [
      "\n",
      "##### [7] Vendedor do mês:\n",
      "\n"
     ]
    },
    {
     "name": "stdin",
     "output_type": "stream",
     "text": [
      "Informe o mês e o ano de interesse (formato mm/aaaa): 2/2023\n"
     ]
    },
    {
     "name": "stdout",
     "output_type": "stream",
     "text": [
      "\n",
      "Vendedores que tiveram faturamento na data 2/2023:\n",
      ". João: R$ 200,00\n",
      ". Maria: R$ 200,00\n",
      "\n",
      "Vendedor(es) do mês (aquele(s) com o maior faturamento):\n",
      ". João: R$ 200,00\n",
      ". Maria: R$ 200,00\n",
      "\n"
     ]
    },
    {
     "name": "stdin",
     "output_type": "stream",
     "text": [
      "O que deseja realizar? Número correspondente às opções do menu: 6\n"
     ]
    },
    {
     "name": "stdout",
     "output_type": "stream",
     "text": [
      "\n",
      "##### [6] Calcular o valor total e médio das vendas de um mês:\n",
      "\n"
     ]
    },
    {
     "name": "stdin",
     "output_type": "stream",
     "text": [
      "Informe o mês e o ano de interesse (formato mm/aaaa): 2/2023\n"
     ]
    },
    {
     "name": "stdout",
     "output_type": "stream",
     "text": [
      "\n",
      "Quantidade de vendas realizadas na data 2/2023: 2\n",
      ". Total vendido: R$ 400,00\n",
      ". Média por venda: R$ 200.00\n",
      "\n"
     ]
    },
    {
     "name": "stdin",
     "output_type": "stream",
     "text": [
      "O que deseja realizar? Número correspondente às opções do menu: 7\n"
     ]
    },
    {
     "name": "stdout",
     "output_type": "stream",
     "text": [
      "\n",
      "##### [7] Vendedor do mês:\n",
      "\n"
     ]
    },
    {
     "name": "stdin",
     "output_type": "stream",
     "text": [
      "Informe o mês e o ano de interesse (formato mm/aaaa): 2/2023\n"
     ]
    },
    {
     "name": "stdout",
     "output_type": "stream",
     "text": [
      "\n",
      "Vendedores que tiveram faturamento na data 2/2023:\n",
      ". João: R$ 200,00\n",
      ". Maria: R$ 200,00\n",
      "\n",
      "Vendedor(es) do mês (aquele(s) com o maior faturamento):\n",
      ". João: R$ 200,00\n",
      ". Maria: R$ 200,00\n",
      "\n"
     ]
    },
    {
     "name": "stdin",
     "output_type": "stream",
     "text": [
      "O que deseja realizar? Número correspondente às opções do menu: 8\n"
     ]
    },
    {
     "name": "stdout",
     "output_type": "stream",
     "text": [
      "\n",
      "##### [8] Produto do mês:\n",
      "\n"
     ]
    },
    {
     "name": "stdin",
     "output_type": "stream",
     "text": [
      "Informe o mês e o ano de interesse (formato mm/aaaa): 2/2023\n"
     ]
    },
    {
     "name": "stdout",
     "output_type": "stream",
     "text": [
      "\n",
      "Produtos vendidos na data 2/2023:\n",
      ". Vestido: R$ 200,00\n",
      ". Chapéu: R$ 200,00\n",
      "\n",
      "Produto(s) do mês (aquele(s) com maior faturamento):\n",
      ". Vestido: R$ 200,00\n",
      ". Chapéu: R$ 200,00\n",
      "\n"
     ]
    },
    {
     "name": "stdin",
     "output_type": "stream",
     "text": [
      "O que deseja realizar? Número correspondente às opções do menu: 0\n"
     ]
    },
    {
     "name": "stdout",
     "output_type": "stream",
     "text": [
      "\n",
      "##### Menu #####\n",
      "\n",
      "0. Exibe o menu novamente\n",
      "1. Exibe o catálogo de produtos da loja\n",
      "2. Cadastrar venda\n",
      "3. Excluir venda\n",
      "4. Exibir vendas cadastradas\n",
      "5. Editar venda cadastrada\n",
      "6. Calcular o valor total e o valor médio das vendas em um determinado mês\n",
      "7. Vendedor do mês\n",
      "8. Produto do mês\n",
      "9. Salvar as vendas no arquivo db_vendas.csv\n",
      "10. Converter os valores em dólares e salvar dados em um novo arquivo\n",
      "\t* Essa operação salva também as novas vendas cadastradas no arquivo db_vendas.csv.\n",
      "11. Sair\n",
      "\n",
      "Não se esqueça de salvar as alterações (opção 9) antes de sair!\n",
      "\n"
     ]
    },
    {
     "name": "stdin",
     "output_type": "stream",
     "text": [
      "O que deseja realizar? Número correspondente às opções do menu: 2\n"
     ]
    },
    {
     "name": "stdout",
     "output_type": "stream",
     "text": [
      "\n",
      "##### [2] Cadastrar venda:\n",
      "\n",
      "ID a ser cadastrado: 8\n",
      "\n"
     ]
    },
    {
     "name": "stdin",
     "output_type": "stream",
     "text": [
      "Nome do(s) produto(s) vendido(s) (separar por vírgula): Vestido, Chapéu, Óculos, Camisa, Calça, Óculos\n"
     ]
    },
    {
     "name": "stdout",
     "output_type": "stream",
     "text": [
      "Digite cada produto apenas uma vez.\n",
      "\n"
     ]
    },
    {
     "name": "stdin",
     "output_type": "stream",
     "text": [
      "Nome do(s) produto(s) vendido(s) (separar por vírgula): Vestido, Chapéu, Óculos, Camisa, Calça\n"
     ]
    },
    {
     "name": "stdout",
     "output_type": "stream",
     "text": [
      "\n"
     ]
    },
    {
     "name": "stdin",
     "output_type": "stream",
     "text": [
      "Quantidade do(s) produto(s) vendido(s), respectivamente (separar por vírgula): 2,1,1,2,1\n"
     ]
    },
    {
     "name": "stdout",
     "output_type": "stream",
     "text": [
      "\n"
     ]
    },
    {
     "name": "stdin",
     "output_type": "stream",
     "text": [
      "CPF do comprador: 95162378423\n"
     ]
    },
    {
     "name": "stdout",
     "output_type": "stream",
     "text": [
      "\n"
     ]
    },
    {
     "name": "stdin",
     "output_type": "stream",
     "text": [
      "Data da venda (formato dd/mm/aaaa): 6/6/2023\n"
     ]
    },
    {
     "name": "stdout",
     "output_type": "stream",
     "text": [
      "\n"
     ]
    },
    {
     "name": "stdin",
     "output_type": "stream",
     "text": [
      "Informações adicionais: Pagamento em dinheiro\n"
     ]
    },
    {
     "name": "stdout",
     "output_type": "stream",
     "text": [
      "\n",
      "Venda cadastrada com sucesso!\n",
      "\n"
     ]
    },
    {
     "name": "stdin",
     "output_type": "stream",
     "text": [
      "O que deseja realizar? Número correspondente às opções do menu: 10\n"
     ]
    },
    {
     "name": "stdout",
     "output_type": "stream",
     "text": [
      "\n",
      "##### [10] Converter os valores em dólares e salvar dados em um novo arquivo:\n",
      "\n"
     ]
    },
    {
     "name": "stdin",
     "output_type": "stream",
     "text": [
      "Quantos dólares está valendo R$ 1,00? 4.79\n"
     ]
    },
    {
     "name": "stdout",
     "output_type": "stream",
     "text": [
      "\n",
      "Alterações salvas no arquivo db_vendas.csv com sucesso!\n",
      "Valores convertidos para dólar. Arquivo db_dolar_4.79.csv salvo com sucesso!\n",
      "\n"
     ]
    },
    {
     "name": "stdin",
     "output_type": "stream",
     "text": [
      "O que deseja realizar? Número correspondente às opções do menu: 11\n"
     ]
    },
    {
     "name": "stdout",
     "output_type": "stream",
     "text": [
      "Até breve, Maria!\n"
     ]
    },
    {
     "name": "stdin",
     "output_type": "stream",
     "text": [
      "\n",
      "Realizar login? (S/N): n\n"
     ]
    },
    {
     "name": "stdout",
     "output_type": "stream",
     "text": [
      "Sistema encerrado!\n"
     ]
    }
   ],
   "source": [
    "# Importando o banco de dados e identificando o último ID de venda cadastrado.\n",
    "print(\"Procurando o banco de dados \\\"db_vendas.csv\\\"...\")\n",
    "db_vendas, ultimo_id = importar_db()\n",
    "print()\n",
    "\n",
    "ultimo_id += 1 if ultimo_id != 0 else 0\n",
    "\n",
    "print(\"##### Sistema de Gerenciamento de Vendas #####\")\n",
    "\n",
    "# Este loop verifica se o login será feito.\n",
    "while True:\n",
    "    realizar_login = input(\"\\nRealizar login? (S/N):\")\n",
    "    \n",
    "    if realizar_login.upper() == 'S':\n",
    "        usuario = input(\"Usuário:\")\n",
    "        senha = input(\"Senha:\")\n",
    "\n",
    "        if login(usuario,senha):\n",
    "            print(f\"Bem-vindo(a), {usuario}!\\n\")\n",
    "            exibe_menu()\n",
    "            \n",
    "            # Este loop refere-se às ações do usuário no menu.\n",
    "            while True:\n",
    "                resposta_usuario = resposta_menu()\n",
    "                \n",
    "                if resposta_usuario == 11:\n",
    "                    print(f\"Até breve, {usuario}!\")\n",
    "                    break\n",
    "                    \n",
    "                elif resposta_usuario == 0:\n",
    "                    print()\n",
    "                    exibe_menu()\n",
    "            \n",
    "                elif resposta_usuario == 1:\n",
    "                    print(\"\\n##### [1] Catálogo de produtos da loja:\\n\")\n",
    "                    exibe_produtos()\n",
    "                    print()\n",
    "                \n",
    "                # Cadastrar e editar uma venda está nesse mesmo bloco de código.\n",
    "                elif (resposta_usuario == 2) or (resposta_usuario == 5):\n",
    "                    pular_edicao = False\n",
    "                    if resposta_usuario == 2:\n",
    "                        print(\"\\n##### [2] Cadastrar venda:\\n\")\n",
    "                        print(f\"ID a ser cadastrado: {ultimo_id}\\n\")\n",
    "                    else:\n",
    "                        print(\"\\n##### [5] Editar venda cadastrada:\\n\")\n",
    "                        if len(db_vendas) != 0:\n",
    "                            status_id = False\n",
    "                            while not(status_id):\n",
    "                                id_editado = input(\"Informe o ID da venda a ser editada:\")\n",
    "                                status_id, msg_id, id_editado = verifica_id(id_editado)\n",
    "                                if msg_id:\n",
    "                                    print(msg_id)\n",
    "                            print()\n",
    "                        else:\n",
    "                            print(\"Não há vendas cadastradas para serem editadas.\\n\")\n",
    "                            pular_edicao = True\n",
    "                    \n",
    "                    if not pular_edicao:\n",
    "                        # Input do nome dos produtos vendidos:\n",
    "                        # Atenção! A primeira letra do nome de cada produto deve ser maiúscula!\n",
    "                        status_produtos = False\n",
    "                        while not(status_produtos):\n",
    "                            produtos_vendidos = input(\"Nome do(s) produto(s) vendido(s) (separar por vírgula):\")\n",
    "                            # Verificando se o input está correto:\n",
    "                            status_produtos, msg_produtos, lista_produtos = verifica_produtos(produtos_vendidos)\n",
    "                            if msg_produtos:\n",
    "                                print(msg_produtos)\n",
    "                        print()\n",
    "\n",
    "                        # Input das quantidades de produtos vendidos, respectivamente:\n",
    "                        status_qtd = False\n",
    "                        while not(status_qtd):\n",
    "                            qtd = input(\"Quantidade do(s) produto(s) vendido(s), respectivamente (separar por vírgula):\")\n",
    "                            # Verificando se o input está correto:\n",
    "                            status_qtd, msg_qtd, lista_qtd = verifica_qtd(qtd, len(lista_produtos))\n",
    "                            if msg_qtd:\n",
    "                                print(msg_qtd)\n",
    "                        print()\n",
    "\n",
    "                        cpf = input(\"CPF do comprador:\")\n",
    "                        print()\n",
    "\n",
    "                        # Input da data:\n",
    "                        status_data = False\n",
    "                        while not(status_data):\n",
    "                            data_venda = input(\"Data da venda (formato dd/mm/aaaa):\")\n",
    "                            # Verificando se o input está correto:\n",
    "                            status_data, msg_data, lista_data = verifica_data(data_venda)\n",
    "                            if msg_data:\n",
    "                                print(msg_data)\n",
    "                        print()\n",
    "\n",
    "                        # Input das informações adicionais:\n",
    "                        status_info = False\n",
    "                        while not(status_info):\n",
    "                            info = input(\"Informações adicionais:\")\n",
    "                            # Verificando se o input está correto:\n",
    "                            status_info, msg_info = verifica_info_adicional(info)\n",
    "                            if msg_info:\n",
    "                                print(msg_info)\n",
    "                        print()\n",
    "\n",
    "                        if (resposta_usuario == 2):\n",
    "                            status_cadastro = cadastrar_venda(\n",
    "                                ultimo_id,\n",
    "                                lista_produtos,\n",
    "                                lista_qtd,\n",
    "                                usuario, \n",
    "                                cpf,\n",
    "                                lista_data, \n",
    "                                info\n",
    "                            )\n",
    "\n",
    "                            if status_cadastro:\n",
    "                                ultimo_id += 1\n",
    "                        else:\n",
    "                            cadastrar_venda(id_editado,\n",
    "                                            lista_produtos,\n",
    "                                            lista_qtd,\n",
    "                                            usuario, \n",
    "                                            cpf,\n",
    "                                            lista_data, \n",
    "                                            info)\n",
    "                        print()\n",
    "\n",
    "                elif resposta_usuario == 3:\n",
    "                    print(\"\\n##### [3] Excluir venda:\\n\")\n",
    "                    if len(db_vendas) != 0:\n",
    "                        status_id = False\n",
    "                        while not(status_id):\n",
    "                            excluir_id = input(\"Informe o ID da venda a ser excluída:\")\n",
    "                            status_id, msg_id, excluir_id = verifica_id(excluir_id)\n",
    "                            if msg_id:\n",
    "                                print(msg_id)\n",
    "                        print()\n",
    "                        excluir_venda(excluir_id)\n",
    "                        print()\n",
    "                    else:\n",
    "                        print(\"Não há vendas a serem excluídas.\\n\")\n",
    "                    \n",
    "                elif resposta_usuario == 4:\n",
    "                    print(\"\\n##### [4] Exibir vendas:\\n\")\n",
    "                    exibir_vendas()\n",
    "                \n",
    "                elif resposta_usuario == 6:\n",
    "                    print(\"\\n##### [6] Calcular o valor total e médio das vendas de um mês:\\n\")\n",
    "                    status_data = False\n",
    "                    while not(status_data):\n",
    "                        mes_ano = input(\"Informe o mês e o ano de interesse (formato mm/aaaa):\")\n",
    "                        # Verificando se o input está correto:\n",
    "                        status_data, msg_data, lista_data = verifica_data(mes_ano, False)\n",
    "                        if msg_data:\n",
    "                            print(msg_data)\n",
    "                    print()\n",
    "                    soma_ano_mes, media_ano_mes = calcular_vendas_ano_mes(ano=lista_data[1],\n",
    "                                                                          mes=lista_data[0])\n",
    "                    print()\n",
    "                \n",
    "                elif resposta_usuario == 7:\n",
    "                    print(\"\\n##### [7] Vendedor do mês:\\n\")\n",
    "                    status_data = False\n",
    "                    while not(status_data):\n",
    "                        mes_ano = input(\"Informe o mês e o ano de interesse (formato mm/aaaa):\")\n",
    "                        # Verificando se o input está correto:\n",
    "                        status_data, msg_data, lista_data = verifica_data(mes_ano, False)\n",
    "                        if msg_data:\n",
    "                            print(msg_data)\n",
    "                    print()\n",
    "                    faturamento_periodo, vendedor_mes = calcular_vendedor_ano_mes(ano=lista_data[1],\n",
    "                                                                                  mes=lista_data[0])\n",
    "                    print()\n",
    "                \n",
    "                elif resposta_usuario == 8:\n",
    "                    print(\"\\n##### [8] Produto do mês:\\n\")\n",
    "                    status_data = False\n",
    "                    while not(status_data):\n",
    "                        mes_ano = input(\"Informe o mês e o ano de interesse (formato mm/aaaa):\")\n",
    "                        # Verificando se o input está correto:\n",
    "                        status_data, msg_data, lista_data = verifica_data(mes_ano, False)\n",
    "                        if msg_data:\n",
    "                            print(msg_data)\n",
    "                    print()\n",
    "                    produto_valor, produto_mes = calcular_produto_ano_mes(ano=lista_data[1],\n",
    "                                                                          mes=lista_data[0])\n",
    "                    print()\n",
    "                    \n",
    "                elif resposta_usuario == 9:\n",
    "                    print(\"\\n##### [9] Salvar as vendas no arquivo db_vendas.csv:\\n\")\n",
    "                    salvar_db()\n",
    "                    print()\n",
    "                  \n",
    "                elif resposta_usuario == 10:\n",
    "                    print(\"\\n##### [10] Converter os valores em dólares e salvar dados em um novo arquivo:\\n\")\n",
    "                    status_cotacao = False\n",
    "                    while not(status_cotacao):\n",
    "                        # Deve ser informado um número que possa ser convertido para float.\n",
    "                        cotacao = input(\"Quantos dólares está valendo R$ 1,00?\")\n",
    "                        # Verificando se o input está correto:\n",
    "                        status_cotacao, msg_cotacao, cotacao = verifica_cotacao_dolar(cotacao)\n",
    "                        if msg_cotacao:\n",
    "                            print(msg_cotacao)\n",
    "                    print()\n",
    "                    salvar_db()\n",
    "                    converter_dolar(cotacao)\n",
    "                    print()\n",
    "                    \n",
    "                else:\n",
    "                    print(resposta_usuario)\n",
    "                    continue\n",
    "\n",
    "        else:\n",
    "            print(\"Usuário ou senha inválidos!\")\n",
    "            continue\n",
    "    elif realizar_login.upper() == 'N':\n",
    "        print(\"Sistema encerrado!\")\n",
    "        break\n",
    "    else:\n",
    "        print(\"Digite \\'S\\' ou \\'N\\'.\")\n",
    "        continue"
   ]
  }
 ],
 "metadata": {
  "kernelspec": {
   "display_name": "Python 3 (ipykernel)",
   "language": "python",
   "name": "python3"
  },
  "language_info": {
   "codemirror_mode": {
    "name": "ipython",
    "version": 3
   },
   "file_extension": ".py",
   "mimetype": "text/x-python",
   "name": "python",
   "nbconvert_exporter": "python",
   "pygments_lexer": "ipython3",
   "version": "3.10.10"
  }
 },
 "nbformat": 4,
 "nbformat_minor": 5
}
